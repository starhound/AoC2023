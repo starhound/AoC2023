{
 "cells": [
  {
   "cell_type": "markdown",
   "metadata": {},
   "source": [
    "# Advent of Code 2023\n",
    "- [Day1](#Day-1) / [Day1_Part2](#Day-1-Part2)\n",
    "- [Day2](#Day-2) / [Day2_Part2](#Day-2-Part2)\n",
    "- [Day3](#Day-3) / [Day3_Part2](#Day-3-Part2)\n",
    "- [Day4](#Day-4) / [Day4_Part2](#Day-4-Part2)\n",
    "- [Day5](#Day-5) / [Day5_Part2](#Day-5-Part2)\n",
    "- [Day6](#Day-6) / [Day6_Part2](#Day-6-Part2)\n",
    "- [Day7](#Day-7) / [Day7_Part2](#Day-7-Part2)\n",
    "- [Day8](#Day-8) / [Day8_Part2](#Day-8-Part2)\n",
    "- [Day9](#Day-9) / [Day9_Part2](#Day-9-Part2)\n",
    "- [Day10](#Day-10) / [Day10_Part2](#Day-10-Part2)\n",
    "- [Day11](#Day-11) / [Day11_Part2](#Day-11-Part2)\n",
    "- [Day12](#Day-12) / [Day12_Part2](#Day-12-Part2)\n",
    "- [Day13](#Day-13) / [Day13_Part2](#Day-13-Part2)\n",
    "- [Day14](#Day-14) / [Day14_Part2](#Day-14-Part2)\n",
    "- [Day15](#Day-15) / [Day15_Part2](#Day-15-Part2)\n",
    "- [Day16](#Day-16) / [Day16_Part2](#Day-16-Part2)\n",
    "- [Day17](#Day-17) / [Day17_Part2](#Day-17-Part2)\n",
    "- [Day18](#Day-18) / [Day18_Part2](#Day-18-Part2)\n",
    "- [Day19](#Day-19) / [Day19_Part2](#Day-19-Part2)\n",
    "- [Day20](#Day-20) / [Day20_Part2](#Day-20-Part2)\n",
    "- [Day21](#Day-21) / [Day21_Part2](#Day-21-Part2)\n",
    "- [Day22](#Day-22) / [Day22_Part2](#Day-22-Part2)\n",
    "- [Day23](#Day-23) / [Day23_Part2](#Day-23-Part2)\n",
    "- [Day24](#Day-24) / [Day24_Part2](#Day-24-Part2)\n",
    "- [Day25](#Day-25) / [Day25_Part2](#Day-25-Part2)\n"
   ]
  },
  {
   "cell_type": "markdown",
   "metadata": {},
   "source": [
    "# Day-1\n",
    "\n",
    "--- Trebuchet?! ---\n",
    "\n",
    "Something is wrong with global snow production, and you've been selected to take a look. The Elves have even given you a map; on it, they've used stars to mark the top fifty locations that are likely to be having problems.\n",
    "\n",
    "You've been doing this long enough to know that to restore snow operations, you need to check all fifty stars by December 25th.\n",
    "\n",
    "Collect stars by solving puzzles. Two puzzles will be made available on each day in the Advent calendar; the second puzzle is unlocked when you complete the first. Each puzzle grants one star. Good luck!\n",
    "\n",
    "You try to ask why they can't just use a weather machine (\"not powerful enough\") and where they're even sending you (\"the sky\") and why your map looks mostly blank (\"you sure ask a lot of questions\") and hang on did you just say the sky (\"of course, where do you think snow comes from\") when you realize that the Elves are already loading you into a trebuchet (\"please hold still, we need to strap you in\").\n",
    "\n",
    "As they're making the final adjustments, they discover that their calibration document (your puzzle input) has been amended by a very young Elf who was apparently just excited to show off her art skills. Consequently, the Elves are having trouble reading the values on the document.\n",
    "\n",
    "The newly-improved calibration document consists of lines of text; each line originally contained a specific calibration value that the Elves now need to recover. On each line, the calibration value can be found by combining the first digit and the last digit (in that order) to form a single two-digit number.\n",
    "\n",
    "For example:\n",
    "\n",
    "```\n",
    "1abc2\n",
    "pqr3stu8vwx\n",
    "a1b2c3d4e5f\n",
    "treb7uchet\n",
    "```\n",
    "\n",
    "In this example, the calibration values of these four lines are 12, 38, 15, and 77. Adding these together produces 142.\n",
    "\n",
    "Consider your entire calibration document. What is the sum of all of the calibration values?"
   ]
  },
  {
   "cell_type": "code",
   "execution_count": null,
   "metadata": {
    "dotnet_interactive": {
     "language": "csharp"
    },
    "polyglot_notebook": {
     "kernelName": "csharp"
    },
    "tags": [
     "day_1"
    ]
   },
   "outputs": [],
   "source": [
    "using System;\n",
    "using System.IO;\n",
    "\n",
    "string filePath = \"1/input.txt\";\n",
    "string[] input;\n",
    "\n",
    "input = File.ReadAllLines(filePath);\n",
    "\n",
    "int finalSum = 0;\n",
    "\n",
    "foreach (string line in input)\n",
    "{\n",
    "    int calibrationValue = ExtractCalibrationValue(line);\n",
    "    AddToFinalSum(finalSum, calibrationValue);\n",
    "}\n",
    "\n",
    "Console.WriteLine($\"Final Sum: {finalSum}\");\n",
    "\n",
    "int ExtractCalibrationValue(string line)\n",
    "{\n",
    "    int firstDigit = -1;\n",
    "    int lastDigit = -1;\n",
    "\n",
    "    // Find the first digit\n",
    "    for (int i = 0; i < line.Length; i++)\n",
    "    {\n",
    "        if (char.IsDigit(line[i]))\n",
    "        {\n",
    "            firstDigit = line[i] - '0';\n",
    "            break;\n",
    "        }\n",
    "    }\n",
    "\n",
    "    // Find the last digit\n",
    "    for (int i = line.Length - 1; i >= 0; i--)\n",
    "    {\n",
    "        if (char.IsDigit(line[i]))\n",
    "        {\n",
    "            lastDigit = line[i] - '0';\n",
    "            break;\n",
    "        }\n",
    "    }\n",
    "\n",
    "    // Combine the digits to form the calibration value\n",
    "    int calibrationValue = firstDigit * 10 + lastDigit;\n",
    "\n",
    "    return calibrationValue;\n",
    "}\n",
    "\n",
    "void AddToFinalSum(int sum, int value)\n",
    "{\n",
    "    finalSum += value;\n",
    "}"
   ]
  },
  {
   "cell_type": "markdown",
   "metadata": {},
   "source": [
    "# Day-1-Part2\n",
    "\n",
    "--- Part Two ---\n",
    "\n",
    "Your calculation isn't quite right. It looks like some of the digits are actually spelled out with letters: one, two, three, four, five, six, seven, eight, and nine also count as valid \"digits\".\n",
    "\n",
    "Equipped with this new information, you now need to find the real first and last digit on each line. For example:\n",
    "\n",
    "two1nine\n",
    "eightwothree\n",
    "abcone2threexyz\n",
    "xtwone3four\n",
    "4nineeightseven2\n",
    "zoneight234\n",
    "7pqrstsixteen\n",
    "\n",
    "In this example, the calibration values are 29, 83, 13, 24, 42, 14, and 76. Adding these together produces 281.\n",
    "\n",
    "What is the sum of all of the calibration values?\n"
   ]
  },
  {
   "cell_type": "code",
   "execution_count": null,
   "metadata": {
    "dotnet_interactive": {
     "language": "csharp"
    },
    "polyglot_notebook": {
     "kernelName": "csharp"
    },
    "tags": [
     "day_1"
    ]
   },
   "outputs": [],
   "source": [
    "using System.IO;\n",
    "using System.Collections.Generic;\n",
    "using System.Linq;\n",
    "using System.Text.RegularExpressions;\n",
    "\n",
    "\n",
    "var input = File.ReadAllLines(\"1/input.txt\");\n",
    "\n",
    "var pattern = @\"(?=(one|two|three|four|five|six|seven|eight|nine|\\d))\";\n",
    "var sum = 0;\n",
    "\n",
    "var transform = new Dictionary<string, string>\n",
    "{\n",
    "    { \"one\", \"1\" },\n",
    "    { \"two\", \"2\" },\n",
    "    { \"three\", \"3\" },\n",
    "    { \"four\", \"4\" },\n",
    "    { \"five\", \"5\" },\n",
    "    { \"six\", \"6\" },\n",
    "    { \"seven\", \"7\" },\n",
    "    { \"eight\", \"8\" },\n",
    "    { \"nine\", \"9\" },\n",
    "    { \"1\", \"1\" },\n",
    "    { \"2\", \"2\" },\n",
    "    { \"3\", \"3\" },\n",
    "    { \"4\", \"4\" },\n",
    "    { \"5\", \"5\" },\n",
    "    { \"6\", \"6\" },\n",
    "    { \"7\", \"7\" },\n",
    "    { \"8\", \"8\" },\n",
    "    { \"9\", \"9\" }\n",
    "};\n",
    "\n",
    "foreach (var line in input)\n",
    "{\n",
    "    var matches = Regex.Matches(line, pattern);\n",
    "    var firstNumber = transform[matches.First().Groups[1].Value];\n",
    "    var secondNumber = transform[matches.Last().Groups[1].Value];\n",
    "    var combined = firstNumber + secondNumber;\n",
    "    sum += int.Parse(combined);\n",
    "}\n",
    "\n",
    "Console.WriteLine($\"Final Sum: {sum}\");\n"
   ]
  },
  {
   "cell_type": "markdown",
   "metadata": {},
   "source": [
    "\n",
    "\n",
    "# Day-2\n",
    "--- Cube Conundrum ---\n",
    "\n",
    "You're launched high into the atmosphere! The apex of your trajectory just barely reaches the surface of a large island floating in the sky. You gently land in a fluffy pile of leaves. It's quite cold, but you don't see much snow. An Elf runs over to greet you.\n",
    "\n",
    "The Elf explains that you've arrived at Snow Island and apologizes for the lack of snow. He'll be happy to explain the situation, but it's a bit of a walk, so you have some time. They don't get many visitors up here; would you like to play a game in the meantime?\n",
    "\n",
    "As you walk, the Elf shows you a small bag and some cubes which are either red, green, or blue. Each time you play this game, he will hide a secret number of cubes of each color in the bag, and your goal is to figure out information about the number of cubes.\n",
    "\n",
    "To get information, once a bag has been loaded with cubes, the Elf will reach into the bag, grab a handful of random cubes, show them to you, and then put them back in the bag. He'll do this a few times per game.\n",
    "\n",
    "You play several games and record the information from each game (your puzzle input). Each game is listed with its ID number (like the 11 in Game 11: ...) followed by a semicolon-separated list of subsets of cubes that were revealed from the bag (like 3 red, 5 green, 4 blue).\n",
    "\n",
    "For example, the record of a few games might look like this:\n",
    "\n",
    "```\n",
    "Game 1: 3 blue, 4 red; 1 red, 2 green, 6 blue; 2 green\n",
    "Game 2: 1 blue, 2 green; 3 green, 4 blue, 1 red; 1 green, 1 blue\n",
    "Game 3: 8 green, 6 blue, 20 red; 5 blue, 4 red, 13 green; 5 green, 1 red\n",
    "Game 4: 1 green, 3 red, 6 blue; 3 green, 6 red; 3 green, 15 blue, 14 red\n",
    "Game 5: 6 red, 1 blue, 3 green; 2 blue, 1 red, 2 green\n",
    "```\n",
    "\n",
    "In game 1, three sets of cubes are revealed from the bag (and then put back again). The first set is 3 blue cubes and 4 red cubes; the second set is 1 red cube, 2 green cubes, and 6 blue cubes; the third set is only 2 green cubes.\n",
    "\n",
    "The Elf would first like to know which games would have been possible if the bag contained only 12 red cubes, 13 green cubes, and 14 blue cubes?\n",
    "\n",
    "In the example above, games 1, 2, and 5 would have been possible if the bag had been loaded with that configuration. However, game 3 would have been impossible because at one point the Elf showed you 20 red cubes at once; similarly, game 4 would also have been impossible because the Elf showed you 15 blue cubes at once. If you add up the IDs of the games that would have been possible, you get 8.\n",
    "\n",
    "Determine which games would have been possible if the bag had been loaded with only 12 red cubes, 13 green cubes, and 14 blue cubes. What is the sum of the IDs of those games?\n"
   ]
  },
  {
   "cell_type": "code",
   "execution_count": 3,
   "metadata": {
    "dotnet_interactive": {
     "language": "csharp"
    },
    "polyglot_notebook": {
     "kernelName": "csharp"
    },
    "tags": [
     "day_2"
    ]
   },
   "outputs": [
    {
     "name": "stdout",
     "output_type": "stream",
     "text": [
      "Sum of IDs of possible games: 2283\r\n"
     ]
    }
   ],
   "source": [
    "using System.IO;\n",
    "\n",
    "var input = File.ReadAllLines(\"2/input.txt\");\n",
    "var desiredRed = 12;\n",
    "var desiredGreen = 13;\n",
    "var desiredBlue = 14;\n",
    "var possibleGames = new List<int>();\n",
    "\n",
    "foreach (var line in input)\n",
    "{\n",
    "    var gameIdIndex = line.IndexOf(\"Game \") + 5;\n",
    "    var gameId = int.Parse(line.Substring(gameIdIndex, line.IndexOf(\":\") - gameIdIndex).Trim());\n",
    "\n",
    "    var gameData = line.Split(new[] { \": \" }, StringSplitOptions.RemoveEmptyEntries)[1];\n",
    "    var rounds = gameData.Split(new[] { \"; \" }, StringSplitOptions.RemoveEmptyEntries);\n",
    "\n",
    "    bool gamePossible = true;\n",
    "\n",
    "    foreach (var round in rounds)\n",
    "    {\n",
    "        var colorValues = round.Split(new[] { ' ', ',' }, StringSplitOptions.RemoveEmptyEntries);\n",
    "\n",
    "        for (int i = 0; i < colorValues.Length; i += 2)\n",
    "        {\n",
    "            int quantity = int.Parse(colorValues[i]);\n",
    "            string color = colorValues[i + 1];\n",
    "\n",
    "            switch (color)\n",
    "            {\n",
    "                case \"red\":\n",
    "                    if (quantity > desiredRed)\n",
    "                    {\n",
    "                        gamePossible = false;\n",
    "                    }\n",
    "                    break;\n",
    "                case \"green\":\n",
    "                    if (quantity > desiredGreen)\n",
    "                    {\n",
    "                        gamePossible = false;\n",
    "                    }\n",
    "                    break;\n",
    "                case \"blue\":\n",
    "                    if (quantity > desiredBlue)\n",
    "                    {\n",
    "                        gamePossible = false;\n",
    "                    }\n",
    "                    break;\n",
    "            }\n",
    "        }\n",
    "    }\n",
    "\n",
    "    if (gamePossible)\n",
    "    {\n",
    "        possibleGames.Add(gameId);\n",
    "    }\n",
    "}\n",
    "\n",
    "int sumOfPossibleGameIDs = possibleGames.Sum();\n",
    "Console.WriteLine($\"Sum of IDs of possible games: {sumOfPossibleGameIDs}\");\n"
   ]
  },
  {
   "cell_type": "markdown",
   "metadata": {},
   "source": [
    "## Day-2-Part2\n",
    "\n",
    "--- Part Two ---\n",
    "\n",
    "The Elf says they've stopped producing snow because they aren't getting any water! He isn't sure why the water stopped; however, he can show you how to get to the water source to check it out for yourself. It's just up ahead!\n",
    "\n",
    "As you continue your walk, the Elf poses a second question: in each game you played, what is the fewest number of cubes of each color that could have been in the bag to make the game possible?\n",
    "\n",
    "Again consider the example games from earlier:\n",
    "\n",
    "```\n",
    "Game 1: 3 blue, 4 red; 1 red, 2 green, 6 blue; 2 green\n",
    "Game 2: 1 blue, 2 green; 3 green, 4 blue, 1 red; 1 green, 1 blue\n",
    "Game 3: 8 green, 6 blue, 20 red; 5 blue, 4 red, 13 green; 5 green, 1 red\n",
    "Game 4: 1 green, 3 red, 6 blue; 3 green, 6 red; 3 green, 15 blue, 14 red\n",
    "Game 5: 6 red, 1 blue, 3 green; 2 blue, 1 red, 2 green\n",
    "```\n",
    "\n",
    "In game 1, the game could have been played with as few as 4 red, 2 green, and 6 blue cubes. If any color had even one fewer cube, the game would have been impossible.\n",
    "\n",
    "```\n",
    "Game 2 could have been played with a minimum of 1 red, 3 green, and 4 blue cubes.\n",
    "Game 3 must have been played with at least 20 red, 13 green, and 6 blue cubes.\n",
    "Game 4 required at least 14 red, 3 green, and 15 blue cubes.\n",
    "Game 5 needed no fewer than 6 red, 3 green, and 2 blue cubes in the bag.\n",
    "```\n",
    "\n",
    "The power of a set of cubes is equal to the numbers of red, green, and blue cubes multiplied together. The power of the minimum set of cubes in game 1 is 48. In games 2-5 it was 12, 1560, 630, and 36, respectively. Adding up these five powers produces the sum 2286.\n",
    "\n",
    "For each game, find the minimum set of cubes that must have been present. What is the sum of the power of these sets?\n"
   ]
  },
  {
   "cell_type": "code",
   "execution_count": 8,
   "metadata": {
    "dotnet_interactive": {
     "language": "csharp"
    },
    "polyglot_notebook": {
     "kernelName": "csharp"
    }
   },
   "outputs": [
    {
     "name": "stdout",
     "output_type": "stream",
     "text": [
      "Sum of game powers: 78669\r\n"
     ]
    }
   ],
   "source": [
    "using System.IO;\n",
    "using System;\n",
    "using System.Collections.Generic;\n",
    "using System.Linq;\n",
    "\n",
    "var input = File.ReadAllLines(\"2/input.txt\");\n",
    "\n",
    "List<int> gamePowers = new List<int>();\n",
    "\n",
    "foreach (var line in input)\n",
    "{\n",
    "    var gameIdIndex = line.IndexOf(\"Game \") + 5;\n",
    "    var gameId = line.Substring(gameIdIndex, line.IndexOf(\":\") - gameIdIndex).Trim();\n",
    "\n",
    "    var gameData = line.Split(new[] { \": \" }, StringSplitOptions.RemoveEmptyEntries)[1];\n",
    "    var rounds = gameData.Split(new[] { \"; \" }, StringSplitOptions.RemoveEmptyEntries);\n",
    "\n",
    "    Dictionary<string, int> maxCounts = new Dictionary<string, int>\n",
    "    {\n",
    "        {\"red\", int.MinValue},\n",
    "        {\"green\", int.MinValue},\n",
    "        {\"blue\", int.MinValue}\n",
    "    };\n",
    "\n",
    "    foreach (var round in rounds)\n",
    "    {\n",
    "        var colorValues = round.Split(new[] { ' ', ',' }, StringSplitOptions.RemoveEmptyEntries);\n",
    "\n",
    "        for (int i = 0; i < colorValues.Length; i += 2)\n",
    "        {\n",
    "            int quantity = int.Parse(colorValues[i]);\n",
    "            string color = colorValues[i + 1];\n",
    "\n",
    "            maxCounts[color] = Math.Max(maxCounts[color], quantity);\n",
    "        }\n",
    "    }\n",
    "\n",
    "    var totalPower = maxCounts[\"red\"] * maxCounts[\"green\"] * maxCounts[\"blue\"];\n",
    "    gamePowers.Add(totalPower);\n",
    "\n",
    "    // Console.WriteLine($\"Game {gameId} - MinRed: {maxCounts[\"red\"]}, MinGreen: {maxCounts[\"green\"]}, MinBlue: {maxCounts[\"blue\"]}\");\n",
    "}\n",
    "\n",
    "Console.WriteLine($\"Sum of game powers: {gamePowers.Sum()}\");\n"
   ]
  },
  {
   "cell_type": "markdown",
   "metadata": {},
   "source": [
    "# Day-3"
   ]
  },
  {
   "cell_type": "markdown",
   "metadata": {},
   "source": [
    "--- Gear Ratios ---\n",
    "\n",
    "You and the Elf eventually reach a gondola lift station; he says the gondola lift will take you up to the water source, but this is as far as he can bring you. You go inside.\n",
    "\n",
    "It doesn't take long to find the gondolas, but there seems to be a problem: they're not moving.\n",
    "\n",
    "\"Aaah!\"\n",
    "\n",
    "You turn around to see a slightly-greasy Elf with a wrench and a look of surprise. \"Sorry, I wasn't expecting anyone! The gondola lift isn't working right now; it'll still be a while before I can fix it.\" You offer to help.\n",
    "\n",
    "The engineer explains that an engine part seems to be missing from the engine, but nobody can figure out which one. If you can add up all the part numbers in the engine schematic, it should be easy to work out which part is missing.\n",
    "\n",
    "The engine schematic (your puzzle input) consists of a visual representation of the engine. There are lots of numbers and symbols you don't really understand, but apparently any number adjacent to a symbol, even diagonally, is a \"part number\" and should be included in your sum. (Periods (.) do not count as a symbol.)\n",
    "\n",
    "Here is an example engine schematic:\n",
    "\n",
    "```\n",
    "467..114..\n",
    "...*......\n",
    "..35..633.\n",
    "......#...\n",
    "617*......\n",
    ".....+.58.\n",
    "..592.....\n",
    "......755.\n",
    "...$.*....\n",
    ".664.598..\n",
    "```\n",
    "\n",
    "In this schematic, two numbers are not part numbers because they are not adjacent to a symbol: 114 (top right) and 58 (middle right). Every other number is adjacent to a symbol and so is a part number; their sum is 4361.\n",
    "\n",
    "Of course, the actual engine schematic is much larger. What is the sum of all of the part numbers in the engine schematic?\n"
   ]
  },
  {
   "cell_type": "code",
   "execution_count": 8,
   "metadata": {
    "dotnet_interactive": {
     "language": "csharp"
    },
    "polyglot_notebook": {
     "kernelName": "csharp"
    }
   },
   "outputs": [
    {
     "name": "stdout",
     "output_type": "stream",
     "text": [
      "The sum of all part numbers in the engine schematic is: 12039\r\n"
     ]
    }
   ],
   "source": [
    "using System;\n",
    "using System.IO;\n",
    "using System.Linq;\n",
    "\n",
    "var engineSchematic = File.ReadAllLines(\"3/input.txt\");\n",
    "\n",
    "char[] symbols = { '!', '@', '#', '$', '%', '^', '(', ')', '-', '=', ',', '+', '/', '*', '&' };\n",
    "\n",
    "int sum = 0;\n",
    "\n",
    "for (int i = 1; i < engineSchematic.Length - 1; i++)\n",
    "{\n",
    "    for (int j = 1; j < engineSchematic[i].Length - 1; j++)\n",
    "    {\n",
    "        char currentChar = engineSchematic[i][j];\n",
    "\n",
    "        if (char.IsDigit(currentChar) || currentChar == '.')\n",
    "        {\n",
    "            int x = j;\n",
    "            int y = i;\n",
    "\n",
    "            // Check the 8 neighboring cells\n",
    "            bool foundSymbol = false;\n",
    "\n",
    "            for (int dx = -1; dx <= 1; dx++)\n",
    "            {\n",
    "                for (int dy = -1; dy <= 1; dy++)\n",
    "                {\n",
    "                    if (dx == 0 && dy == 0)\n",
    "                        continue;\n",
    "\n",
    "                    int newX = x + dx;\n",
    "                    int newY = y + dy;\n",
    "\n",
    "                    if (newX >= 0 && newX < engineSchematic[i].Length && newY >= 0 && newY < engineSchematic.Length)\n",
    "                    {\n",
    "                        char neighborChar = engineSchematic[newY][newX];\n",
    "\n",
    "                        if (symbols.Contains(neighborChar))\n",
    "                        {\n",
    "                            foundSymbol = true;\n",
    "                            break; // Break if a special character is found\n",
    "                        }\n",
    "                    }\n",
    "                }\n",
    "\n",
    "                if (foundSymbol)\n",
    "                    break;\n",
    "            }\n",
    "\n",
    "            if (foundSymbol)\n",
    "            {\n",
    "                string number = \"\";\n",
    "\n",
    "                for (int k = j; k < engineSchematic[i].Length; k++)\n",
    "                {\n",
    "                    char nextChar = engineSchematic[i][k];\n",
    "                    if (char.IsDigit(nextChar) || nextChar == '.')\n",
    "                    {\n",
    "                        number += nextChar;\n",
    "                    }\n",
    "                    else\n",
    "                    {\n",
    "                        break;\n",
    "                    }\n",
    "                }\n",
    "\n",
    "                if (double.TryParse(number, out double parsedNumber))\n",
    "                {\n",
    "                    sum += (int)parsedNumber;\n",
    "                }\n",
    "            }\n",
    "        }\n",
    "    }\n",
    "}\n",
    "\n",
    "Console.WriteLine($\"The sum of all part numbers in the engine schematic is: {sum}\");\n"
   ]
  },
  {
   "cell_type": "markdown",
   "metadata": {},
   "source": [
    "# Day-3-Part2"
   ]
  }
 ],
 "metadata": {
  "kernelspec": {
   "display_name": ".NET (C#)",
   "language": "C#",
   "name": ".net-csharp"
  },
  "language_info": {
   "name": "polyglot-notebook"
  },
  "polyglot_notebook": {
   "kernelInfo": {
    "defaultKernelName": "csharp",
    "items": [
     {
      "aliases": [],
      "name": "csharp"
     }
    ]
   }
  }
 },
 "nbformat": 4,
 "nbformat_minor": 2
}
